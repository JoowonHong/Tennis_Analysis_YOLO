{
 "cells": [
  {
   "cell_type": "code",
   "execution_count": 8,
   "metadata": {},
   "outputs": [],
   "source": [
    "import pickle\n",
    "import pandas as pd\n",
    "import matplotlib.pyplot as plt"
   ]
  },
  {
   "cell_type": "code",
   "execution_count": 10,
   "metadata": {},
   "outputs": [],
   "source": [
    "#read pickle file\n",
    "with open('../tracker_stubs/ball_detections.pkl','rb') as f:\n",
    "    ball_positions = pickle.load(f)\n"
   ]
  },
  {
   "cell_type": "code",
   "execution_count": 11,
   "metadata": {},
   "outputs": [],
   "source": [
    "ball_positions = [x.get(1,[]) for x in ball_positions]\n",
    "#convert the list into pandas dataframe\n",
    "df_ball_positions = pd.DataFrame(ball_positions,columns=['x1','y1','x2','y2'])\n",
    "      \n",
    "#interpolate the missing values\n",
    "df_ball_positions = df_ball_positions.interpolate()\n",
    "df_ball_positions = df_ball_positions.bfill()"
   ]
  },
  {
   "cell_type": "code",
   "execution_count": null,
   "metadata": {},
   "outputs": [],
   "source": [
    "df_ball_positions['mid_y'] = (df_ball_positions['y1']+df_ball_positions['y2'])/2\n",
    "df_ball_positions['mid_y_rolling_mean'] =  df_ball_positions['mid_y'].rolling(window=5,min_periods=1,center=False).mean()\n",
    "df_ball_positions['delta_y'] = df_ball_positions['mid_y_rolling_mean'].diff()\n"
   ]
  },
  {
   "cell_type": "code",
   "execution_count": 14,
   "metadata": {},
   "outputs": [
    {
     "data": {
      "text/html": [
       "<div>\n",
       "<style scoped>\n",
       "    .dataframe tbody tr th:only-of-type {\n",
       "        vertical-align: middle;\n",
       "    }\n",
       "\n",
       "    .dataframe tbody tr th {\n",
       "        vertical-align: top;\n",
       "    }\n",
       "\n",
       "    .dataframe thead th {\n",
       "        text-align: right;\n",
       "    }\n",
       "</style>\n",
       "<table border=\"1\" class=\"dataframe\">\n",
       "  <thead>\n",
       "    <tr style=\"text-align: right;\">\n",
       "      <th></th>\n",
       "      <th>x1</th>\n",
       "      <th>y1</th>\n",
       "      <th>x2</th>\n",
       "      <th>y2</th>\n",
       "      <th>mid_y</th>\n",
       "      <th>mid_y_rolling_mean</th>\n",
       "    </tr>\n",
       "  </thead>\n",
       "  <tbody>\n",
       "    <tr>\n",
       "      <th>0</th>\n",
       "      <td>821.733582</td>\n",
       "      <td>687.153198</td>\n",
       "      <td>837.779480</td>\n",
       "      <td>704.126465</td>\n",
       "      <td>695.639832</td>\n",
       "      <td>695.639832</td>\n",
       "    </tr>\n",
       "    <tr>\n",
       "      <th>1</th>\n",
       "      <td>821.733582</td>\n",
       "      <td>687.153198</td>\n",
       "      <td>837.779480</td>\n",
       "      <td>704.126465</td>\n",
       "      <td>695.639832</td>\n",
       "      <td>695.639832</td>\n",
       "    </tr>\n",
       "    <tr>\n",
       "      <th>2</th>\n",
       "      <td>821.733582</td>\n",
       "      <td>687.153198</td>\n",
       "      <td>837.779480</td>\n",
       "      <td>704.126465</td>\n",
       "      <td>695.639832</td>\n",
       "      <td>695.639832</td>\n",
       "    </tr>\n",
       "    <tr>\n",
       "      <th>3</th>\n",
       "      <td>821.733582</td>\n",
       "      <td>687.153198</td>\n",
       "      <td>837.779480</td>\n",
       "      <td>704.126465</td>\n",
       "      <td>695.639832</td>\n",
       "      <td>695.639832</td>\n",
       "    </tr>\n",
       "    <tr>\n",
       "      <th>4</th>\n",
       "      <td>821.733582</td>\n",
       "      <td>687.153198</td>\n",
       "      <td>837.779480</td>\n",
       "      <td>704.126465</td>\n",
       "      <td>695.639832</td>\n",
       "      <td>695.639832</td>\n",
       "    </tr>\n",
       "    <tr>\n",
       "      <th>...</th>\n",
       "      <td>...</td>\n",
       "      <td>...</td>\n",
       "      <td>...</td>\n",
       "      <td>...</td>\n",
       "      <td>...</td>\n",
       "      <td>...</td>\n",
       "    </tr>\n",
       "    <tr>\n",
       "      <th>209</th>\n",
       "      <td>1184.413696</td>\n",
       "      <td>248.626617</td>\n",
       "      <td>1199.054443</td>\n",
       "      <td>265.775269</td>\n",
       "      <td>257.200943</td>\n",
       "      <td>283.675742</td>\n",
       "    </tr>\n",
       "    <tr>\n",
       "      <th>210</th>\n",
       "      <td>1183.796143</td>\n",
       "      <td>233.343842</td>\n",
       "      <td>1196.418213</td>\n",
       "      <td>245.940857</td>\n",
       "      <td>239.642349</td>\n",
       "      <td>269.574104</td>\n",
       "    </tr>\n",
       "    <tr>\n",
       "      <th>211</th>\n",
       "      <td>1182.622192</td>\n",
       "      <td>225.498077</td>\n",
       "      <td>1196.798584</td>\n",
       "      <td>241.860413</td>\n",
       "      <td>233.679245</td>\n",
       "      <td>256.927324</td>\n",
       "    </tr>\n",
       "    <tr>\n",
       "      <th>212</th>\n",
       "      <td>1179.966309</td>\n",
       "      <td>213.546478</td>\n",
       "      <td>1194.774414</td>\n",
       "      <td>228.973709</td>\n",
       "      <td>221.260094</td>\n",
       "      <td>244.444195</td>\n",
       "    </tr>\n",
       "    <tr>\n",
       "      <th>213</th>\n",
       "      <td>1179.352539</td>\n",
       "      <td>203.488739</td>\n",
       "      <td>1192.798340</td>\n",
       "      <td>218.500885</td>\n",
       "      <td>210.994812</td>\n",
       "      <td>232.555489</td>\n",
       "    </tr>\n",
       "  </tbody>\n",
       "</table>\n",
       "<p>214 rows × 6 columns</p>\n",
       "</div>"
      ],
      "text/plain": [
       "              x1          y1           x2          y2       mid_y  \\\n",
       "0     821.733582  687.153198   837.779480  704.126465  695.639832   \n",
       "1     821.733582  687.153198   837.779480  704.126465  695.639832   \n",
       "2     821.733582  687.153198   837.779480  704.126465  695.639832   \n",
       "3     821.733582  687.153198   837.779480  704.126465  695.639832   \n",
       "4     821.733582  687.153198   837.779480  704.126465  695.639832   \n",
       "..           ...         ...          ...         ...         ...   \n",
       "209  1184.413696  248.626617  1199.054443  265.775269  257.200943   \n",
       "210  1183.796143  233.343842  1196.418213  245.940857  239.642349   \n",
       "211  1182.622192  225.498077  1196.798584  241.860413  233.679245   \n",
       "212  1179.966309  213.546478  1194.774414  228.973709  221.260094   \n",
       "213  1179.352539  203.488739  1192.798340  218.500885  210.994812   \n",
       "\n",
       "     mid_y_rolling_mean  \n",
       "0            695.639832  \n",
       "1            695.639832  \n",
       "2            695.639832  \n",
       "3            695.639832  \n",
       "4            695.639832  \n",
       "..                  ...  \n",
       "209          283.675742  \n",
       "210          269.574104  \n",
       "211          256.927324  \n",
       "212          244.444195  \n",
       "213          232.555489  \n",
       "\n",
       "[214 rows x 6 columns]"
      ]
     },
     "execution_count": 14,
     "metadata": {},
     "output_type": "execute_result"
    }
   ],
   "source": [
    "df_ball_positions"
   ]
  },
  {
   "cell_type": "code",
   "execution_count": 15,
   "metadata": {},
   "outputs": [
    {
     "data": {
      "text/plain": [
       "[<matplotlib.lines.Line2D at 0x2e4eb1a09d0>]"
      ]
     },
     "execution_count": 15,
     "metadata": {},
     "output_type": "execute_result"
    },
    {
     "data": {
      "image/png": "[encoded data removed]",
      "text/plain": [
       "<Figure size 640x480 with 1 Axes>"
      ]
     },
     "metadata": {},
     "output_type": "display_data"
    }
   ],
   "source": [
    "#plot_midy_rolling_mean\n",
    "plt.plot(df_ball_positions['mid_y_rolling_mean'])"
   ]
  },
  {
   "cell_type": "code",
   "execution_count": 16,
   "metadata": {},
   "outputs": [],
   "source": [
    "df_ball_positions['delta_y'] = df_ball_positions['mid_y_rolling_mean'].diff()\n"
   ]
  },
  {
   "cell_type": "code",
   "execution_count": 18,
   "metadata": {},
   "outputs": [
    {
     "data": {
      "text/plain": [
       "[<matplotlib.lines.Line2D at 0x2e4eb273e80>]"
      ]
     },
     "execution_count": 18,
     "metadata": {},
     "output_type": "execute_result"
    },
    {
     "data": {
      "image/png": "[encoded data removed]",
      "text/plain": [
       "<Figure size 640x480 with 1 Axes>"
      ]
     },
     "metadata": {},
     "output_type": "display_data"
    }
   ],
   "source": [
    "#plot_delta_y\n",
    "plt.plot(df_ball_positions['delta_y'])"
   ]
  },
  {
   "cell_type": "code",
   "execution_count": null,
   "metadata": {},
   "outputs": [],
   "source": [
    "df_ball_positions['ball_hit'] = 0\n"
   ]
  },
  {
   "cell_type": "code",
   "execution_count": null,
   "metadata": {},
   "outputs": [
    {
     "name": "stderr",
     "output_type": "stream",
     "text": [
      "C:\\Users\\JoowonHong\\AppData\\Local\\Temp\\ipykernel_10940\\1978286093.py:19: SettingWithCopyWarning: \n",
      "A value is trying to be set on a copy of a slice from a DataFrame\n",
      "\n",
      "See the caveats in the documentation: https://pandas.pydata.org/pandas-docs/stable/user_guide/indexing.html#returning-a-view-versus-a-copy\n",
      "  df_ball_positions['ball_hit'].iloc[i] = 1\n",
      "C:\\Users\\JoowonHong\\AppData\\Local\\Temp\\ipykernel_10940\\1978286093.py:19: SettingWithCopyWarning: \n",
      "A value is trying to be set on a copy of a slice from a DataFrame\n",
      "\n",
      "See the caveats in the documentation: https://pandas.pydata.org/pandas-docs/stable/user_guide/indexing.html#returning-a-view-versus-a-copy\n",
      "  df_ball_positions['ball_hit'].iloc[i] = 1\n",
      "C:\\Users\\JoowonHong\\AppData\\Local\\Temp\\ipykernel_10940\\1978286093.py:19: SettingWithCopyWarning: \n",
      "A value is trying to be set on a copy of a slice from a DataFrame\n",
      "\n",
      "See the caveats in the documentation: https://pandas.pydata.org/pandas-docs/stable/user_guide/indexing.html#returning-a-view-versus-a-copy\n",
      "  df_ball_positions['ball_hit'].iloc[i] = 1\n",
      "C:\\Users\\JoowonHong\\AppData\\Local\\Temp\\ipykernel_10940\\1978286093.py:19: SettingWithCopyWarning: \n",
      "A value is trying to be set on a copy of a slice from a DataFrame\n",
      "\n",
      "See the caveats in the documentation: https://pandas.pydata.org/pandas-docs/stable/user_guide/indexing.html#returning-a-view-versus-a-copy\n",
      "  df_ball_positions['ball_hit'].iloc[i] = 1\n",
      "C:\\Users\\JoowonHong\\AppData\\Local\\Temp\\ipykernel_10940\\1978286093.py:19: SettingWithCopyWarning: \n",
      "A value is trying to be set on a copy of a slice from a DataFrame\n",
      "\n",
      "See the caveats in the documentation: https://pandas.pydata.org/pandas-docs/stable/user_guide/indexing.html#returning-a-view-versus-a-copy\n",
      "  df_ball_positions['ball_hit'].iloc[i] = 1\n"
     ]
    }
   ],
   "source": [
    "df_ball_positions['mid_y'] = (df_ball_positions['y1']+df_ball_positions['y2'])/2\n",
    "df_ball_positions['mid_y_rolling_mean'] =  df_ball_positions['mid_y'].rolling(window=5,min_periods=1,center=False).mean()\n",
    "df_ball_positions['delta_y'] = df_ball_positions['mid_y_rolling_mean'].diff()\n",
    "\n",
    "\n",
    "minimum_change_fmame_for_hit = 25\n",
    "for i in range(1,len(df_ball_positions)-int(minimum_change_fmame_for_hit*1.2)):\n",
    "    negative_position_change = df_ball_positions['delta_y'].iloc[i] > 0 and df_ball_positions['delta_y'].iloc[i+1]<0\n",
    "    positive_position_change = df_ball_positions['delta_y'].iloc[i] < 0 and df_ball_positions['delta_y'].iloc[i+1]>0\n",
    "\n",
    "    if negative_position_change or positive_position_change:\n",
    "        change_count = 0\n",
    "        for change_frame in range(i+1, i+int(minimum_change_fmame_for_hit*1.2)+1):\n",
    "            negative_position_change_following_frame = df_ball_positions['delta_y'].iloc[i] > 0 and df_ball_positions['delta_y'].iloc[change_frame]<0\n",
    "            positive_position_change_following_frame = df_ball_positions['delta_y'].iloc[i] < 0 and df_ball_positions['delta_y'].iloc[change_frame]>0\n",
    "\n",
    "\n",
    "            if negative_position_change and negative_position_change_following_frame:\n",
    "                change_count+=1\n",
    "            elif positive_position_change and positive_position_change_following_frame:\n",
    "                change_count+=1\n",
    "\n",
    "        if change_count>minimum_change_fmame_for_hit-1:\n",
    "            df_ball_positions['ball_hit'].iloc[i] = 1\n",
    "frame_nums_with_ball_hits  = df_ball_positions[df_ball_positions['ball_hit']==1].index.to_list()\n"
   ]
  },
  {
   "cell_type": "code",
   "execution_count": 25,
   "metadata": {},
   "outputs": [
    {
     "data": {
      "text/html": [
       "<div>\n",
       "<style scoped>\n",
       "    .dataframe tbody tr th:only-of-type {\n",
       "        vertical-align: middle;\n",
       "    }\n",
       "\n",
       "    .dataframe tbody tr th {\n",
       "        vertical-align: top;\n",
       "    }\n",
       "\n",
       "    .dataframe thead th {\n",
       "        text-align: right;\n",
       "    }\n",
       "</style>\n",
       "<table border=\"1\" class=\"dataframe\">\n",
       "  <thead>\n",
       "    <tr style=\"text-align: right;\">\n",
       "      <th></th>\n",
       "      <th>x1</th>\n",
       "      <th>y1</th>\n",
       "      <th>x2</th>\n",
       "      <th>y2</th>\n",
       "      <th>mid_y</th>\n",
       "      <th>mid_y_rolling_mean</th>\n",
       "      <th>delta_y</th>\n",
       "      <th>ball_hit</th>\n",
       "    </tr>\n",
       "  </thead>\n",
       "  <tbody>\n",
       "    <tr>\n",
       "      <th>11</th>\n",
       "      <td>777.544373</td>\n",
       "      <td>717.640320</td>\n",
       "      <td>796.565735</td>\n",
       "      <td>738.517090</td>\n",
       "      <td>728.078705</td>\n",
       "      <td>735.750946</td>\n",
       "      <td>6.487775</td>\n",
       "      <td>1</td>\n",
       "    </tr>\n",
       "    <tr>\n",
       "      <th>58</th>\n",
       "      <td>925.472522</td>\n",
       "      <td>241.433972</td>\n",
       "      <td>938.761877</td>\n",
       "      <td>254.690100</td>\n",
       "      <td>248.062036</td>\n",
       "      <td>243.888598</td>\n",
       "      <td>-1.916668</td>\n",
       "      <td>1</td>\n",
       "    </tr>\n",
       "    <tr>\n",
       "      <th>95</th>\n",
       "      <td>624.201355</td>\n",
       "      <td>748.847565</td>\n",
       "      <td>641.789246</td>\n",
       "      <td>767.176453</td>\n",
       "      <td>758.012009</td>\n",
       "      <td>775.301205</td>\n",
       "      <td>0.816891</td>\n",
       "      <td>1</td>\n",
       "    </tr>\n",
       "    <tr>\n",
       "      <th>131</th>\n",
       "      <td>717.301123</td>\n",
       "      <td>231.292447</td>\n",
       "      <td>731.139307</td>\n",
       "      <td>245.602762</td>\n",
       "      <td>238.447604</td>\n",
       "      <td>236.699350</td>\n",
       "      <td>-0.232046</td>\n",
       "      <td>1</td>\n",
       "    </tr>\n",
       "    <tr>\n",
       "      <th>182</th>\n",
       "      <td>1296.760864</td>\n",
       "      <td>740.293823</td>\n",
       "      <td>1313.070801</td>\n",
       "      <td>758.036255</td>\n",
       "      <td>749.165039</td>\n",
       "      <td>737.527277</td>\n",
       "      <td>5.247034</td>\n",
       "      <td>1</td>\n",
       "    </tr>\n",
       "  </tbody>\n",
       "</table>\n",
       "</div>"
      ],
      "text/plain": [
       "              x1          y1           x2          y2       mid_y  \\\n",
       "11    777.544373  717.640320   796.565735  738.517090  728.078705   \n",
       "58    925.472522  241.433972   938.761877  254.690100  248.062036   \n",
       "95    624.201355  748.847565   641.789246  767.176453  758.012009   \n",
       "131   717.301123  231.292447   731.139307  245.602762  238.447604   \n",
       "182  1296.760864  740.293823  1313.070801  758.036255  749.165039   \n",
       "\n",
       "     mid_y_rolling_mean   delta_y  ball_hit  \n",
       "11           735.750946  6.487775         1  \n",
       "58           243.888598 -1.916668         1  \n",
       "95           775.301205  0.816891         1  \n",
       "131          236.699350 -0.232046         1  \n",
       "182          737.527277  5.247034         1  "
      ]
     },
     "execution_count": 25,
     "metadata": {},
     "output_type": "execute_result"
    }
   ],
   "source": [
    "df_ball_positions[df_ball_positions['ball_hit']==1]"
   ]
  },
  {
   "cell_type": "code",
   "execution_count": null,
   "metadata": {},
   "outputs": [],
   "source": [
    "frame_nums_with_ball_hits  = df_ball_positions[df_ball_positions['ball_hit']==1].index.to_list()\n"
   ]
  },
  {
   "cell_type": "code",
   "execution_count": null,
   "metadata": {},
   "outputs": [],
   "source": []
  }
 ],
 "metadata": {
  "kernelspec": {
   "display_name": "YOLO_Project1",
   "language": "python",
   "name": "python3"
  },
  "language_info": {
   "codemirror_mode": {
    "name": "ipython",
    "version": 3
   },
   "file_extension": ".py",
   "mimetype": "text/x-python",
   "name": "python",
   "nbconvert_exporter": "python",
   "pygments_lexer": "ipython3",
   "version": "undefined.undefined.undefined"
  }
 },
 "nbformat": 4,
 "nbformat_minor": 2
}
